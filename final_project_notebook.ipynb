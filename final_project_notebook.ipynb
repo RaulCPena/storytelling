{
 "cells": [
  {
   "cell_type": "code",
   "execution_count": 1,
   "metadata": {},
   "outputs": [],
   "source": [
    "import pandas as pd\n",
    "import numpy as np\n",
    "import matplotlib.pyplot as plt\n",
    "\n",
    "import seaborn as sns\n",
    "\n",
    "\n",
    "\n",
    "\n",
    "\n",
    "#Tells pandas to show all columns when displaying the DataFrame\n",
    "pd.options.display.max_columns = None\n",
    "pd.options.display.max_rows = None"
   ]
  },
  {
   "cell_type": "markdown",
   "metadata": {},
   "source": [
    "# Storytelling Project\n",
    "\n",
    "## This project was done to reinforce skills in Python, Pandas, Matplotlib, and Numpy.\n",
    "\n",
    "Using the Pandas library to sharpen the following skills:\n",
    "    \n",
    "   - Pandas dataframes and series fundamentals\n",
    "    \n",
    "   - Using masks and indexing in Pandas to retrieve subsets of data\n",
    "    \n",
    "   - dropping columns\n",
    "   \n",
    "   - manipulating data in the following methods\n",
    "       \n",
    "      - `pd.sort_values(\"col_name\")`\n",
    "      \n",
    "      - `pd[\"col_name\"]` subsetting column\n",
    "     \n",
    "      - `pd[[\"col_A\", \"col_B\"]]` subsetting multiple columns\n",
    "      \n",
    "      - `pd[pd[\"col_name\"] > condition]` you can use the following types conditions `<`, `>`, `==`, `!=`, `<=`, `>=`\n",
    "      \n",
    "   - Filerting can be done this way:\n",
    "       - `pd[(pd[\"col_name\"] > condition) & (pd[\"col_name\"] > condition)]` the condition separating this statement can be the following two and == `&`, or == `|`\n",
    "   - Subsetting rows with by categorical values often involves using `&` or `|` so lets see another way we can solve this:\n",
    "```\n",
    "    states = ['Texas', 'California', 'New York']\n",
    "    certain_states = df['state'].isin(states)\n",
    "    df[certain_states]\n",
    "\n",
    "\n",
    "### The project goals are to narrow down the list of colleges to the top 5 or 10 that meets the guidelines set by Codeup instructors. \n",
    "    - Student body size not to exceed 10,000\n",
    "    - Only select colleges within the region specified: Pacific Coast, Southwest, Northeastern states above VA\n",
    "    - Urban only colleges\n",
    "    - no reliqgous schools\n",
    "    - no for profit schools\n",
    "    - diversity in the school is important\n"
   ]
  },
  {
   "cell_type": "code",
   "execution_count": 2,
   "metadata": {},
   "outputs": [],
   "source": [
    "df = pd.read_csv('final_selected_colleges.csv', index_col=[0])"
   ]
  },
  {
   "cell_type": "code",
   "execution_count": 3,
   "metadata": {},
   "outputs": [
    {
     "data": {
      "text/html": [
       "<div>\n",
       "<style scoped>\n",
       "    .dataframe tbody tr th:only-of-type {\n",
       "        vertical-align: middle;\n",
       "    }\n",
       "\n",
       "    .dataframe tbody tr th {\n",
       "        vertical-align: top;\n",
       "    }\n",
       "\n",
       "    .dataframe thead th {\n",
       "        text-align: right;\n",
       "    }\n",
       "</style>\n",
       "<table border=\"1\" class=\"dataframe\">\n",
       "  <thead>\n",
       "    <tr style=\"text-align: right;\">\n",
       "      <th></th>\n",
       "      <th>unitid</th>\n",
       "      <th>chronname</th>\n",
       "      <th>city</th>\n",
       "      <th>state</th>\n",
       "      <th>level</th>\n",
       "      <th>control</th>\n",
       "      <th>student_count</th>\n",
       "      <th>med_sat_value</th>\n",
       "      <th>aid_value</th>\n",
       "      <th>cohort_size</th>\n",
       "      <th>CONTROL</th>\n",
       "      <th>region</th>\n",
       "      <th>LOCALE</th>\n",
       "      <th>UGDS</th>\n",
       "      <th>UGDS_WHITE</th>\n",
       "      <th>UGDS_BLACK</th>\n",
       "      <th>UGDS_HISP</th>\n",
       "      <th>UGDS_AIAN</th>\n",
       "      <th>UGDS_ASIAN</th>\n",
       "      <th>UGDS_NHPI</th>\n",
       "      <th>UGDS_2MOR</th>\n",
       "      <th>UGDS_NRA</th>\n",
       "      <th>UGDS_UNKN</th>\n",
       "      <th>out_of_state_tuition</th>\n",
       "      <th>applicants_admitted</th>\n",
       "      <th>4_year_graduation_rate</th>\n",
       "      <th>total</th>\n",
       "    </tr>\n",
       "  </thead>\n",
       "  <tbody>\n",
       "    <tr>\n",
       "      <th>0</th>\n",
       "      <td>110486</td>\n",
       "      <td>CSU Bakersfield</td>\n",
       "      <td>Bakersfield</td>\n",
       "      <td>California</td>\n",
       "      <td>4-year</td>\n",
       "      <td>Public</td>\n",
       "      <td>7350</td>\n",
       "      <td>901.0</td>\n",
       "      <td>11089.0</td>\n",
       "      <td>859.0</td>\n",
       "      <td>1</td>\n",
       "      <td>8</td>\n",
       "      <td>11.0</td>\n",
       "      <td>7226.0</td>\n",
       "      <td>0.1960</td>\n",
       "      <td>0.0656</td>\n",
       "      <td>0.4979</td>\n",
       "      <td>0.0073</td>\n",
       "      <td>0.0650</td>\n",
       "      <td>0.0017</td>\n",
       "      <td>0.0309</td>\n",
       "      <td>0.0255</td>\n",
       "      <td>0.1102</td>\n",
       "      <td>19296</td>\n",
       "      <td>79</td>\n",
       "      <td>41</td>\n",
       "      <td>0.6285</td>\n",
       "    </tr>\n",
       "    <tr>\n",
       "      <th>1</th>\n",
       "      <td>110574</td>\n",
       "      <td>CSU East Bay</td>\n",
       "      <td>Hayward</td>\n",
       "      <td>California</td>\n",
       "      <td>4-year</td>\n",
       "      <td>Public</td>\n",
       "      <td>12146</td>\n",
       "      <td>910.0</td>\n",
       "      <td>9038.0</td>\n",
       "      <td>1032.0</td>\n",
       "      <td>1</td>\n",
       "      <td>8</td>\n",
       "      <td>12.0</td>\n",
       "      <td>12079.0</td>\n",
       "      <td>0.1843</td>\n",
       "      <td>0.1083</td>\n",
       "      <td>0.2546</td>\n",
       "      <td>0.0016</td>\n",
       "      <td>0.2439</td>\n",
       "      <td>0.0111</td>\n",
       "      <td>0.0572</td>\n",
       "      <td>0.0659</td>\n",
       "      <td>0.0732</td>\n",
       "      <td>6984</td>\n",
       "      <td>76</td>\n",
       "      <td>43</td>\n",
       "      <td>0.6068</td>\n",
       "    </tr>\n",
       "    <tr>\n",
       "      <th>2</th>\n",
       "      <td>162283</td>\n",
       "      <td>Coppin State University</td>\n",
       "      <td>Baltimore</td>\n",
       "      <td>Maryland</td>\n",
       "      <td>4-year</td>\n",
       "      <td>Public</td>\n",
       "      <td>2920</td>\n",
       "      <td>880.0</td>\n",
       "      <td>6077.0</td>\n",
       "      <td>555.0</td>\n",
       "      <td>1</td>\n",
       "      <td>2</td>\n",
       "      <td>11.0</td>\n",
       "      <td>2880.0</td>\n",
       "      <td>0.0139</td>\n",
       "      <td>0.8337</td>\n",
       "      <td>0.0170</td>\n",
       "      <td>0.0003</td>\n",
       "      <td>0.0035</td>\n",
       "      <td>0.0010</td>\n",
       "      <td>0.0205</td>\n",
       "      <td>0.0736</td>\n",
       "      <td>0.0365</td>\n",
       "      <td>13113</td>\n",
       "      <td>70</td>\n",
       "      <td>15</td>\n",
       "      <td>0.8542</td>\n",
       "    </tr>\n",
       "    <tr>\n",
       "      <th>3</th>\n",
       "      <td>163453</td>\n",
       "      <td>Morgan State University</td>\n",
       "      <td>Baltimore</td>\n",
       "      <td>Maryland</td>\n",
       "      <td>4-year</td>\n",
       "      <td>Public</td>\n",
       "      <td>6252</td>\n",
       "      <td>893.0</td>\n",
       "      <td>7073.0</td>\n",
       "      <td>1286.0</td>\n",
       "      <td>1</td>\n",
       "      <td>2</td>\n",
       "      <td>11.0</td>\n",
       "      <td>6197.0</td>\n",
       "      <td>0.0203</td>\n",
       "      <td>0.8451</td>\n",
       "      <td>0.0292</td>\n",
       "      <td>0.0032</td>\n",
       "      <td>0.0139</td>\n",
       "      <td>0.0011</td>\n",
       "      <td>0.0342</td>\n",
       "      <td>0.0424</td>\n",
       "      <td>0.0105</td>\n",
       "      <td>18480</td>\n",
       "      <td>68</td>\n",
       "      <td>28</td>\n",
       "      <td>0.8882</td>\n",
       "    </tr>\n",
       "    <tr>\n",
       "      <th>4</th>\n",
       "      <td>185129</td>\n",
       "      <td>NJ City University</td>\n",
       "      <td>Jersey City</td>\n",
       "      <td>New Jersey</td>\n",
       "      <td>4-year</td>\n",
       "      <td>Public</td>\n",
       "      <td>6437</td>\n",
       "      <td>916.0</td>\n",
       "      <td>7258.0</td>\n",
       "      <td>649.0</td>\n",
       "      <td>1</td>\n",
       "      <td>2</td>\n",
       "      <td>11.0</td>\n",
       "      <td>6373.0</td>\n",
       "      <td>0.2504</td>\n",
       "      <td>0.2084</td>\n",
       "      <td>0.3435</td>\n",
       "      <td>0.0022</td>\n",
       "      <td>0.0854</td>\n",
       "      <td>0.0000</td>\n",
       "      <td>0.0108</td>\n",
       "      <td>0.0071</td>\n",
       "      <td>0.0923</td>\n",
       "      <td>22386</td>\n",
       "      <td>95</td>\n",
       "      <td>39</td>\n",
       "      <td>0.6373</td>\n",
       "    </tr>\n",
       "    <tr>\n",
       "      <th>5</th>\n",
       "      <td>186399</td>\n",
       "      <td>Rutgers</td>\n",
       "      <td>Newark</td>\n",
       "      <td>New Jersey</td>\n",
       "      <td>4-year</td>\n",
       "      <td>Public</td>\n",
       "      <td>7217</td>\n",
       "      <td>1059.0</td>\n",
       "      <td>9830.0</td>\n",
       "      <td>978.0</td>\n",
       "      <td>1</td>\n",
       "      <td>2</td>\n",
       "      <td>11.0</td>\n",
       "      <td>6748.0</td>\n",
       "      <td>0.2570</td>\n",
       "      <td>0.1867</td>\n",
       "      <td>0.2447</td>\n",
       "      <td>0.0012</td>\n",
       "      <td>0.2208</td>\n",
       "      <td>0.0049</td>\n",
       "      <td>0.0292</td>\n",
       "      <td>0.0313</td>\n",
       "      <td>0.0243</td>\n",
       "      <td>31608</td>\n",
       "      <td>72</td>\n",
       "      <td>68</td>\n",
       "      <td>0.6522</td>\n",
       "    </tr>\n",
       "  </tbody>\n",
       "</table>\n",
       "</div>"
      ],
      "text/plain": [
       "   unitid                chronname         city       state   level control  \\\n",
       "0  110486          CSU Bakersfield  Bakersfield  California  4-year  Public   \n",
       "1  110574             CSU East Bay      Hayward  California  4-year  Public   \n",
       "2  162283  Coppin State University    Baltimore    Maryland  4-year  Public   \n",
       "3  163453  Morgan State University    Baltimore    Maryland  4-year  Public   \n",
       "4  185129       NJ City University  Jersey City  New Jersey  4-year  Public   \n",
       "5  186399                  Rutgers       Newark  New Jersey  4-year  Public   \n",
       "\n",
       "   student_count  med_sat_value  aid_value  cohort_size  CONTROL  region  \\\n",
       "0           7350          901.0    11089.0        859.0        1       8   \n",
       "1          12146          910.0     9038.0       1032.0        1       8   \n",
       "2           2920          880.0     6077.0        555.0        1       2   \n",
       "3           6252          893.0     7073.0       1286.0        1       2   \n",
       "4           6437          916.0     7258.0        649.0        1       2   \n",
       "5           7217         1059.0     9830.0        978.0        1       2   \n",
       "\n",
       "   LOCALE     UGDS  UGDS_WHITE  UGDS_BLACK  UGDS_HISP  UGDS_AIAN  UGDS_ASIAN  \\\n",
       "0    11.0   7226.0      0.1960      0.0656     0.4979     0.0073      0.0650   \n",
       "1    12.0  12079.0      0.1843      0.1083     0.2546     0.0016      0.2439   \n",
       "2    11.0   2880.0      0.0139      0.8337     0.0170     0.0003      0.0035   \n",
       "3    11.0   6197.0      0.0203      0.8451     0.0292     0.0032      0.0139   \n",
       "4    11.0   6373.0      0.2504      0.2084     0.3435     0.0022      0.0854   \n",
       "5    11.0   6748.0      0.2570      0.1867     0.2447     0.0012      0.2208   \n",
       "\n",
       "   UGDS_NHPI  UGDS_2MOR  UGDS_NRA  UGDS_UNKN  out_of_state_tuition  \\\n",
       "0     0.0017     0.0309    0.0255     0.1102                 19296   \n",
       "1     0.0111     0.0572    0.0659     0.0732                  6984   \n",
       "2     0.0010     0.0205    0.0736     0.0365                 13113   \n",
       "3     0.0011     0.0342    0.0424     0.0105                 18480   \n",
       "4     0.0000     0.0108    0.0071     0.0923                 22386   \n",
       "5     0.0049     0.0292    0.0313     0.0243                 31608   \n",
       "\n",
       "   applicants_admitted  4_year_graduation_rate   total  \n",
       "0                   79                      41  0.6285  \n",
       "1                   76                      43  0.6068  \n",
       "2                   70                      15  0.8542  \n",
       "3                   68                      28  0.8882  \n",
       "4                   95                      39  0.6373  \n",
       "5                   72                      68  0.6522  "
      ]
     },
     "execution_count": 3,
     "metadata": {},
     "output_type": "execute_result"
    }
   ],
   "source": [
    "df"
   ]
  },
  {
   "cell_type": "code",
   "execution_count": 4,
   "metadata": {},
   "outputs": [
    {
     "data": {
      "image/png": "[encoded data removed]",
      "text/plain": [
       "<Figure size 1080x504 with 1 Axes>"
      ]
     },
     "metadata": {
      "needs_background": "light"
     },
     "output_type": "display_data"
    }
   ],
   "source": [
    "# Here is a visualization on the disstribution white vs non white students\n",
    "\n",
    "pos = list(range(len(df['UGDS_WHITE'])))\n",
    "width= 0.25\n",
    "\n",
    "fig, ax = plt.subplots(figsize=(15, 7))\n",
    "\n",
    "plt.bar(pos, \n",
    "        #using df['pre_score'] data,\n",
    "        df['UGDS_WHITE'], \n",
    "        # of width\n",
    "        width, \n",
    "        # with alpha 0.5\n",
    "        alpha=0.5,  \n",
    "        # with label the first value in first_name\n",
    "        label=df['chronname'][0])\n",
    "\n",
    "# Create a bar with mid_score data,\n",
    "# in position pos + some width buffer,\n",
    "plt.bar([p + width for p in pos], \n",
    "        #using df['mid_score'] data,\n",
    "        df['total'],\n",
    "        # of width\n",
    "        width, \n",
    "        # with alpha 0.5\n",
    "        alpha=0.5, \n",
    "        # with color\n",
    "         \n",
    "        # with label the second value in first_name\n",
    "        label=df['chronname'][1])\n",
    "\n",
    "ax.set_ylabel('')\n",
    "ax.set_title('Diversity')\n",
    "ax.set_xticks([p + 1.5 * width for p in pos])\n",
    "ax.set_xticklabels(df['chronname'])\n",
    "\n",
    "plt.xlim(min(pos)-width, max(pos)+width*4)\n",
    "plt.ylim([0, max(df['UGDS_WHITE'] + df['total'])] )\n",
    "\n",
    "# Adding the legend and showing the plot\n",
    "plt.legend(['White', 'Non White'], loc='upper left')\n",
    "\n",
    "plt.show()"
   ]
  },
  {
   "cell_type": "markdown",
   "metadata": {},
   "source": [
    "# A comparison of each colleges graduation rate"
   ]
  },
  {
   "cell_type": "code",
   "execution_count": 5,
   "metadata": {},
   "outputs": [
    {
     "data": {
      "image/png": "[encoded data removed]",
      "text/plain": [
       "<Figure size 720x576 with 1 Axes>"
      ]
     },
     "metadata": {
      "needs_background": "light"
     },
     "output_type": "display_data"
    }
   ],
   "source": [
    "sns.set_context('paper')\n",
    "plt.figure(figsize=(10, 8))\n",
    "sns.barplot(x = '4_year_graduation_rate', y = 'chronname', data = df, palette = 'Blues', edgecolor = 'w', order = df.sort_values('4_year_graduation_rate').chronname)\n",
    "plt.xticks(fontsize=13)\n",
    "plt.yticks(fontsize=13)\n",
    "plt.xlabel('Percent', fontsize=20)\n",
    "plt.ylabel('')\n",
    "plt.title('4 year graduation rate', fontsize=20)\n",
    "plt.tight_layout()\n",
    "# plt.savefig('completion_rate')\n",
    "\n",
    "plt.show()"
   ]
  },
  {
   "cell_type": "markdown",
   "metadata": {},
   "source": [
    "# out of state tuition"
   ]
  },
  {
   "cell_type": "code",
   "execution_count": 6,
   "metadata": {},
   "outputs": [
    {
     "data": {
      "image/png": "[encoded data removed]",
      "text/plain": [
       "<Figure size 1296x576 with 1 Axes>"
      ]
     },
     "metadata": {
      "needs_background": "light"
     },
     "output_type": "display_data"
    }
   ],
   "source": [
    "plt.figure(figsize=(18, 8))\n",
    "plt.rcParams['font.size'] = 18\n",
    "sns.barplot(data=df, y='chronname', x='out_of_state_tuition', palette = 'Blues', edgecolor = 'w', order = df.sort_values('out_of_state_tuition').chronname)\n",
    "plt.ylabel(\"\") # to get remove the column_name\n",
    "plt.xlabel(\"Out Of State Tuition\", fontsize=20)\n",
    "plt.xticks(fontsize=16)\n",
    "plt.yticks(fontsize=16)\n",
    "plt.ylabel('')\n",
    "\n",
    "plt.tight_layout()\n",
    "\n",
    "# plt.savefig('horizontal-chart')\n"
   ]
  },
  {
   "cell_type": "code",
   "execution_count": null,
   "metadata": {},
   "outputs": [],
   "source": []
  },
  {
   "cell_type": "code",
   "execution_count": null,
   "metadata": {},
   "outputs": [],
   "source": []
  },
  {
   "cell_type": "code",
   "execution_count": null,
   "metadata": {},
   "outputs": [],
   "source": []
  },
  {
   "cell_type": "code",
   "execution_count": null,
   "metadata": {},
   "outputs": [],
   "source": []
  },
  {
   "cell_type": "code",
   "execution_count": null,
   "metadata": {},
   "outputs": [],
   "source": []
  },
  {
   "cell_type": "code",
   "execution_count": null,
   "metadata": {},
   "outputs": [],
   "source": []
  },
  {
   "cell_type": "code",
   "execution_count": null,
   "metadata": {},
   "outputs": [],
   "source": []
  },
  {
   "cell_type": "code",
   "execution_count": null,
   "metadata": {},
   "outputs": [],
   "source": []
  },
  {
   "cell_type": "code",
   "execution_count": null,
   "metadata": {},
   "outputs": [],
   "source": []
  },
  {
   "cell_type": "code",
   "execution_count": null,
   "metadata": {},
   "outputs": [],
   "source": []
  },
  {
   "cell_type": "code",
   "execution_count": null,
   "metadata": {},
   "outputs": [],
   "source": []
  },
  {
   "cell_type": "code",
   "execution_count": null,
   "metadata": {},
   "outputs": [],
   "source": []
  },
  {
   "cell_type": "code",
   "execution_count": null,
   "metadata": {},
   "outputs": [],
   "source": []
  },
  {
   "cell_type": "code",
   "execution_count": null,
   "metadata": {},
   "outputs": [],
   "source": []
  },
  {
   "cell_type": "code",
   "execution_count": null,
   "metadata": {},
   "outputs": [],
   "source": []
  },
  {
   "cell_type": "code",
   "execution_count": null,
   "metadata": {},
   "outputs": [],
   "source": []
  },
  {
   "cell_type": "code",
   "execution_count": null,
   "metadata": {},
   "outputs": [],
   "source": []
  },
  {
   "cell_type": "code",
   "execution_count": null,
   "metadata": {},
   "outputs": [],
   "source": []
  },
  {
   "cell_type": "code",
   "execution_count": null,
   "metadata": {},
   "outputs": [],
   "source": []
  },
  {
   "cell_type": "code",
   "execution_count": null,
   "metadata": {},
   "outputs": [],
   "source": []
  },
  {
   "cell_type": "code",
   "execution_count": null,
   "metadata": {},
   "outputs": [],
   "source": []
  },
  {
   "cell_type": "code",
   "execution_count": null,
   "metadata": {},
   "outputs": [],
   "source": []
  },
  {
   "cell_type": "code",
   "execution_count": null,
   "metadata": {},
   "outputs": [],
   "source": []
  },
  {
   "cell_type": "code",
   "execution_count": null,
   "metadata": {},
   "outputs": [],
   "source": []
  },
  {
   "cell_type": "code",
   "execution_count": null,
   "metadata": {},
   "outputs": [],
   "source": []
  },
  {
   "cell_type": "code",
   "execution_count": null,
   "metadata": {},
   "outputs": [],
   "source": []
  },
  {
   "cell_type": "code",
   "execution_count": null,
   "metadata": {},
   "outputs": [],
   "source": []
  },
  {
   "cell_type": "code",
   "execution_count": null,
   "metadata": {},
   "outputs": [],
   "source": []
  },
  {
   "cell_type": "code",
   "execution_count": null,
   "metadata": {},
   "outputs": [],
   "source": []
  },
  {
   "cell_type": "code",
   "execution_count": null,
   "metadata": {},
   "outputs": [],
   "source": []
  },
  {
   "cell_type": "code",
   "execution_count": null,
   "metadata": {},
   "outputs": [],
   "source": []
  },
  {
   "cell_type": "code",
   "execution_count": null,
   "metadata": {},
   "outputs": [],
   "source": []
  },
  {
   "cell_type": "code",
   "execution_count": null,
   "metadata": {},
   "outputs": [],
   "source": []
  },
  {
   "cell_type": "code",
   "execution_count": null,
   "metadata": {},
   "outputs": [],
   "source": []
  },
  {
   "cell_type": "code",
   "execution_count": null,
   "metadata": {},
   "outputs": [],
   "source": []
  },
  {
   "cell_type": "code",
   "execution_count": null,
   "metadata": {},
   "outputs": [],
   "source": []
  },
  {
   "cell_type": "code",
   "execution_count": null,
   "metadata": {},
   "outputs": [],
   "source": []
  },
  {
   "cell_type": "code",
   "execution_count": null,
   "metadata": {},
   "outputs": [],
   "source": []
  },
  {
   "cell_type": "code",
   "execution_count": null,
   "metadata": {},
   "outputs": [],
   "source": []
  },
  {
   "cell_type": "code",
   "execution_count": null,
   "metadata": {},
   "outputs": [],
   "source": []
  },
  {
   "cell_type": "code",
   "execution_count": null,
   "metadata": {},
   "outputs": [],
   "source": []
  }
 ],
 "metadata": {
  "kernelspec": {
   "display_name": "Python 3",
   "language": "python",
   "name": "python3"
  },
  "language_info": {
   "codemirror_mode": {
    "name": "ipython",
    "version": 3
   },
   "file_extension": ".py",
   "mimetype": "text/x-python",
   "name": "python",
   "nbconvert_exporter": "python",
   "pygments_lexer": "ipython3",
   "version": "3.7.7"
  }
 },
 "nbformat": 4,
 "nbformat_minor": 4
}
